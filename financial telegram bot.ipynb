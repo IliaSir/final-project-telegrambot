{
 "cells": [
  {
   "cell_type": "markdown",
   "metadata": {},
   "source": [
    "# Финансовый телеграм бот\n",
    "Проект посвящен созданию полноценного телеграм бота"
   ]
  },
  {
   "cell_type": "markdown",
   "metadata": {},
   "source": [
    "# Список использованных технологий:\n",
    "1. pandas\n",
    "2. Веб-скрепинг\n",
    "3. API\n",
    "4. Визуализация данных\n",
    "5. Математические возможности питон\n",
    "6. SQL\n",
    "7. Регулярные выражения\n",
    "\n",
    "Длина кода - немного больше 300 строк."
   ]
  },
  {
   "cell_type": "markdown",
   "metadata": {},
   "source": [
    "# Возможности бота:\n",
    "1. Показывает финансовые новости\n",
    "2. Присылает графики движения цены акции\n",
    "3. Показывает курсы валют\n",
    "4. Собирает портфель и показывает его динамику\n",
    "\n",
    "@Stock_exchangebot - можете запустить все ячейки и понажимать"
   ]
  },
  {
   "cell_type": "markdown",
   "metadata": {},
   "source": [
    "# Скачаем необходимые пакеты:"
   ]
  },
  {
   "cell_type": "code",
   "execution_count": 5,
   "metadata": {},
   "outputs": [
    {
     "ename": "ModuleNotFoundError",
     "evalue": "No module named 'drawSvg'",
     "output_type": "error",
     "traceback": [
      "\u001b[0;31m---------------------------------------------------------------------------\u001b[0m",
      "\u001b[0;31mModuleNotFoundError\u001b[0m                       Traceback (most recent call last)",
      "Cell \u001b[0;32mIn[5], line 13\u001b[0m\n\u001b[1;32m     11\u001b[0m \u001b[39mimport\u001b[39;00m \u001b[39msqlite3\u001b[39;00m \u001b[39mas\u001b[39;00m \u001b[39msql\u001b[39;00m\n\u001b[1;32m     12\u001b[0m \u001b[39mimport\u001b[39;00m \u001b[39myfinance\u001b[39;00m \u001b[39mas\u001b[39;00m \u001b[39myf\u001b[39;00m \u001b[39m#pip install yfinance\u001b[39;00m\n\u001b[0;32m---> 13\u001b[0m \u001b[39mimport\u001b[39;00m \u001b[39mdrawSvg\u001b[39;00m \u001b[39mas\u001b[39;00m \u001b[39mdraw\u001b[39;00m \u001b[39m#pip install drawSvg #к сожалению, pycharm не поддерживает этот пакет, поэтому не пытайтесь\u001b[39;00m\n\u001b[1;32m     14\u001b[0m \u001b[39m#там запускать\u001b[39;00m\n",
      "\u001b[0;31mModuleNotFoundError\u001b[0m: No module named 'drawSvg'"
     ]
    }
   ],
   "source": [
    "import telebot  # pip install PyTelegramBotAPI#\n",
    "from telebot import types\n",
    "import pandas as pd\n",
    "import numpy as np\n",
    "from bs4 import BeautifulSoup\n",
    "import requests\n",
    "import time\n",
    "from pandas_datareader import data\n",
    "import matplotlib.pyplot as plt\n",
    "import re\n",
    "import sqlite3 as sql\n",
    "import yfinance as yf #pip install yfinance\n",
    "import drawSvg as draw #pip install drawSvg #к сожалению, pycharm не поддерживает этот пакет, поэтому не пытайтесь\n",
    "#там запускать\n"
   ]
  },
  {
   "cell_type": "markdown",
   "metadata": {},
   "source": [
    "# Подключаемся к боту по токену и создаем ему начальные клавиатуры\n",
    "\n",
    "Перед тем как запустить, не забудьте включить VPN"
   ]
  },
  {
   "cell_type": "code",
   "execution_count": 2,
   "metadata": {},
   "outputs": [
    {
     "data": {
      "text/plain": [
       "<telebot.types.ReplyKeyboardMarkup at 0x11fdd3510>"
      ]
     },
     "execution_count": 2,
     "metadata": {},
     "output_type": "execute_result"
    }
   ],
   "source": [
    "token = \"1180947181:AAF9ocVFEsLFiITAFD1UHUZTEwUayIxzhiI\"\n",
    "bot = telebot.TeleBot(token)\n",
    "keyboard1 = telebot.types.ReplyKeyboardMarkup(resize_keyboard=True)\n",
    "keyboard1.row('Новости', \"Котировки\")\n",
    "keyboard1.row('Портфель', 'Курс валют')\n",
    "keyboard2 = telebot.types.ReplyKeyboardMarkup(resize_keyboard=True)\n",
    "keyboard2.row('Собрать портфель', 'Посмотреть динамику')\n",
    "keyboard3 = telebot.types.ReplyKeyboardMarkup(resize_keyboard=True)\n",
    "keyboard3.row('РБК', 'ТАСС')\n",
    "keyboard3.row('Интерфакс')\n",
    "keyboard3.row('На главную')\n",
    "keyboard_rbk = telebot.types.ReplyKeyboardMarkup(resize_keyboard=True)\n",
    "keyboard_rbk.row('Экономика', 'Финансы')\n",
    "keyboard_rbk.row('На главную')\n"
   ]
  },
  {
   "cell_type": "markdown",
   "metadata": {},
   "source": [
    "# Ниже идут необходимые функции бота:\n",
    "Функция, которая по нажатию на кнопку \"Курс валют\", скаичвает по API актуальные курсы 4 валют: доллара, рубля, фунта и йены и строит красивый график на котором можно посмотреть курс валюты относительно любой другой, используя drawSvg. Тут нет курса евро, так как при его запросе через цикл возникает ошибка и пофиксить не получилось, а других адекватных api, которые бы давали возможность бесплатно менять базовую валюту не нашел. "
   ]
  },
  {
   "cell_type": "code",
   "execution_count": 3,
   "metadata": {},
   "outputs": [],
   "source": [
    "def currency_rates(message):\n",
    "    bot.send_message(message.from_user.id, \"Подождите, обновляю курсы\")\n",
    "    # отступ для того, чтобы было место где подписать валюты\n",
    "    indent = 30\n",
    "    #размер клетки\n",
    "    cell = 100\n",
    "    \n",
    "    currencys = [\"USD\", \"GBP\", \"RUB\", \"JPY\"]\n",
    "    url = \"https://api.exchangeratesapi.io/latest\"\n",
    "    #размер поля рисования\n",
    "    size = (cell * 4) + indent\n",
    "    \n",
    "    d = draw.Drawing(size, size, displayInline=True)\n",
    "    #основной квадрат\n",
    "    d.append(draw.Rectangle(indent, 0, size - indent, size - indent, fill='pink'))\n",
    "\n",
    "    for i in range(0, 5):\n",
    "        d.append(draw.Line(indent, i * cell, size, i * cell, stroke='black'))\n",
    "        d.append(draw.Line(indent + i * cell, 0, indent + i * cell, size - indent, stroke='black'))\n",
    "    for i in range(0, 8):\n",
    "        if i < 4:\n",
    "            d.append(draw.Line(indent, (i + 1) * cell, (i + 1) * cell + indent, 0, stroke='black'))\n",
    "        else:\n",
    "            d.append(draw.Line(indent + (i - 4) * cell, size - indent, size, (i - 4) * cell, stroke='black'))\n",
    "    for i in range(0, 4):\n",
    "        d.append(draw.Rectangle(i * cell + indent, size - indent - (i + 1) * cell, cell, cell))\n",
    "        d.append(draw.Text(currencys[i], 12, 0, size - indent - cell * (i + 1) + cell / 2, 0))\n",
    "        d.append(draw.Text(currencys[i], 12, 70 + i * cell, size - 25, 0))\n",
    "    a = []\n",
    "    for base in currencys:\n",
    "        b = []\n",
    "        for currency in currencys:\n",
    "            params = {'base': base}\n",
    "            r = requests.get(url, params)\n",
    "            b.append(str(round(r.json()['rates'][currency], 3)))\n",
    "        a.append(b)\n",
    "    for i in range(0, 4):\n",
    "        for j in range(0, 4):\n",
    "            d.append(draw.Text(a[i][j], 12, 60 + j * cell, size - indent - cell * (i + 1) + 10))\n",
    "            d.append(draw.Text(a[i][j], 12, 60 + i * cell, size - indent - cell * (j + 1) + 80))\n",
    "    d.savePng('exchange.png')\n",
    "    exchange_rate = open(\"exchange.png\", 'rb')\n",
    "\n",
    "    bot.send_photo(message.from_user.id, exchange_rate, reply_markup=keyboard1)"
   ]
  },
  {
   "cell_type": "markdown",
   "metadata": {},
   "source": [
    "Ниже скопировал код, который рисует картинку с валютами, чтобы понятно было как она выглядит. Эту часть не учитывал при подсчете длины кода"
   ]
  },
  {
   "cell_type": "code",
   "execution_count": 17,
   "metadata": {},
   "outputs": [
    {
     "data": {
      "image/png": "[encoded data removed]",
      "text/plain": [
       "<drawSvg.raster.Raster at 0x11fe4d310>"
      ]
     },
     "execution_count": 17,
     "metadata": {},
     "output_type": "execute_result"
    }
   ],
   "source": [
    "# отступ для того, чтобы было место где подписать валюты\n",
    "indent = 30\n",
    "#размер клетки\n",
    "cell = 100\n",
    "    \n",
    "currencys = [\"USD\", \"GBP\", \"RUB\", \"JPY\"]\n",
    "url = \"https://api.exchangeratesapi.io/latest\"\n",
    "#размер поля рисования\n",
    "size = (cell * 4) + indent\n",
    "    \n",
    "d = draw.Drawing(size, size, displayInline=True)\n",
    "#основной квадрат\n",
    "d.append(draw.Rectangle(indent, 0, size - indent, size - indent, fill='pink'))\n",
    "\n",
    "for i in range(0, 5):\n",
    "    d.append(draw.Line(indent, i * cell, size, i * cell, stroke='black'))\n",
    "    d.append(draw.Line(indent + i * cell, 0, indent + i * cell, size - indent, stroke='black'))\n",
    "for i in range(0, 8):\n",
    "    if i < 4:\n",
    "        d.append(draw.Line(indent, (i + 1) * cell, (i + 1) * cell + indent, 0, stroke='black'))\n",
    "    else:\n",
    "        d.append(draw.Line(indent + (i - 4) * cell, size - indent, size, (i - 4) * cell, stroke='black'))\n",
    "for i in range(0, 4):\n",
    "    d.append(draw.Rectangle(i * cell + indent, size - indent - (i + 1) * cell, cell, cell))\n",
    "    d.append(draw.Text(currencys[i], 12, 0, size - indent - cell * (i + 1) + cell / 2, 0))\n",
    "    d.append(draw.Text(currencys[i], 12, 70 + i * cell, size - 25, 0))\n",
    "a = []\n",
    "for base in currencys:\n",
    "    b = []\n",
    "    for currency in currencys:\n",
    "        params = {'base': base}\n",
    "        r = requests.get(url, params)\n",
    "        b.append(str(round(r.json()['rates'][currency], 3)))\n",
    "    a.append(b)\n",
    "for i in range(0, 4):\n",
    "    for j in range(0, 4):\n",
    "        d.append(draw.Text(a[i][j], 12, 60 + j * cell, size - indent - cell * (i + 1) + 10))\n",
    "        d.append(draw.Text(a[i][j], 12, 60 + i * cell, size - indent - cell * (j + 1) + 80))\n",
    "d.rasterize()"
   ]
  },
  {
   "cell_type": "markdown",
   "metadata": {},
   "source": [
    "В этой функции создается база данных с пользователями, их собранными портфелями и датами создания этих портфелей.\n",
    "Если пользователь нажмет еще раз кнопку создать, то его портфель обновится."
   ]
  },
  {
   "cell_type": "code",
   "execution_count": 5,
   "metadata": {},
   "outputs": [],
   "source": [
    "def create_portfolio(message):\n",
    "    con = sql.connect('portfolios.db')\n",
    "    cur = con.cursor()\n",
    "    cur.execute(\"\"\"\n",
    "    CREATE TABLE IF NOT EXISTS portfolios (user, portfolio, create_date)\"\"\")\n",
    "    user = message.from_user.id\n",
    "    portfolio = message.text\n",
    "    date = time.strftime(\"%Y-%m-%d\", time.localtime())\n",
    "    if [(user,)] == cur.execute(\"\"\"SELECT user FROM portfolios \n",
    "    WHERE user=?\n",
    "    \"\"\", (user,)).fetchall():\n",
    "        cur.execute(\"\"\"UPDATE portfolios\n",
    "        SET portfolio = ?, create_date=?\n",
    "        WHERE user=?\n",
    "        \"\"\", (portfolio, date, user,))\n",
    "    elif [(user,)] != cur.execute(\"\"\"SELECT user FROM portfolios \n",
    "    WHERE user=?\n",
    "    \"\"\", (user,)).fetchall():\n",
    "        cur.execute(\"\"\"INSERT INTO portfolios (user, portfolio, create_date) VALUES (?,?,?)\"\"\",\n",
    "                    (user, portfolio, date,))\n",
    "    con.commit()\n",
    "    cur.close()"
   ]
  },
  {
   "cell_type": "markdown",
   "metadata": {},
   "source": [
    "Тут, по запросу пользователя, достается из базы портфель и дата, и строится график цены портфеля, а так же считается процентный прирост портфеля за все время существования.\n",
    "\n",
    "К сожалению, если портфель создан в тот же день, что и сделан запрос на динамику, котировки не удастся скачать, так как не было закрытия торгов, наверное). Поэтому, вместо даты начала стоит рандомная дата, можно поменять ее на create_date и тогда буде считатся действительно с момента создания."
   ]
  },
  {
   "cell_type": "code",
   "execution_count": 6,
   "metadata": {},
   "outputs": [],
   "source": [
    "def dynamics(message):\n",
    "    con = sql.connect('portfolios.db')\n",
    "    cur = con.cursor()\n",
    "    user=message.from_user.id\n",
    "    portf = ''.join(map(str, cur.execute(\"\"\"\n",
    "        SELECT portfolio FROM portfolios\n",
    "        WHERE user = ?\"\"\", (user,)).fetchall()[0])).split()\n",
    "    create_date=''.join(map(str, cur.execute(\"\"\"\n",
    "        SELECT create_date FROM portfolios\n",
    "        WHERE user = ?\"\"\", (user,)).fetchall()[0]))\n",
    "    today=time.strftime(\"%Y-%m-%d\", time.localtime())\n",
    "# можно сказкать, что этот кусок кода взят с https://habr.com/ru/post/487644/ , но по сути это обычное использование библиотеки\n",
    "    data = pd.DataFrame(columns=portf)\n",
    "    for ticker in portf:\n",
    "        data[ticker] = yf.download(ticker, '2020-05-20', today, interval='30m')['Adj Close']\n",
    "# конец\n",
    "    alpha = np.array(yf.download(portf, '2020-05-20', today, interval='30m')['Adj Close'])\n",
    "    sum = []\n",
    "    for i in range(len(alpha)):\n",
    "        sum.append(np.sum(alpha[i]))\n",
    "    data['sum'] = sum\n",
    "    total=np.array(sum)\n",
    "    updown=((total[-1]-total[0])/total[0])*100\n",
    "    graph = data['sum'].plot(grid=True, figsize=(20, 15))\n",
    "    plt.savefig(\"portfolio.png\")\n",
    "    plt.close()\n",
    "    photo = open(\"portfolio.png\", 'rb')\n",
    "    bot.send_message(message.from_user.id, \"С момента создания, рост ващего портфеля составляет  \"+str(np.round(updown, decimals=3))+'%')\n",
    "    bot.send_photo(message.from_user.id, photo, reply_markup=keyboard1)\n"
   ]
  },
  {
   "cell_type": "markdown",
   "metadata": {},
   "source": [
    "При нажатии кнопки \"Котировки\", бот запрашивает дату начала и дату конца периода, за который человек хочет посмотреть график движения цены акции. Эти две функции последовательно проверяют дату начала и конца с помощью регулярок, а потом переводят пользователя на следующую функцию, в которой ищется тикер по названию. Проверяем даты, чтобы пользователь не ввел всякой ерунды и бот не лег из-за ошибки доступа к котировкам.\n",
    "\n",
    "bot.register_next_step_handler - штука, которая помогает строить диалог, принимает новое сообщение и вызывает нужную функцию."
   ]
  },
  {
   "cell_type": "code",
   "execution_count": 7,
   "metadata": {},
   "outputs": [],
   "source": [
    "def check_startdate(message):\n",
    "    global startdate\n",
    "    startdate = message.text\n",
    "    if re.match(r'((19|20)[0-9]{2})-(0?[1-9]|1[012])-(0[1-9]|[12][0-9]|3[01])', startdate):\n",
    "        bot.send_message(message.from_user.id, \"Напиши дату до которой желаешь получить данные, в том же формате\")\n",
    "        bot.register_next_step_handler(message, check_enddate)\n",
    "    else:\n",
    "        bot.send_message(message.from_user.id, \"Неправильный формат или несуществующая дата, попробуй еще раз\")\n",
    "        bot.register_next_step_handler(message, check_startdate)\n",
    "\n",
    "\n",
    "def check_enddate(message):\n",
    "    global enddate\n",
    "    enddate = message.text\n",
    "    if re.match(r'((19|20)[0-9]{2})-(0?[1-9]|1[012])-(0[1-9]|[12][0-9]|3[01])', enddate):\n",
    "        bot.send_message(message.from_user.id,\n",
    "                         \"Напиши мне компанию, график которой хочешь увидеть, если это иностранная компания, то пиши на английском!\")\n",
    "        bot.register_next_step_handler(message, find_tiker)\n",
    "    else:\n",
    "        bot.send_message(message.from_user.id, \"Неправильный формат или несуществующая дата, попробуй еще раз\")\n",
    "        bot.register_next_step_handler(message, check_enddate)\n"
   ]
  },
  {
   "cell_type": "markdown",
   "metadata": {},
   "source": [
    "Тут идет гигантская функция поиска тикера по названию компании. Скачать csv с листингом бумаг с московской биржи мне удалось, а вот с питерской - нет, так как у них js-ка стоит в ссылке(((, поэтому прикрепил файлик с питерской биржи, который читает эта функция, положите его к файлу программы.\n",
    "\n",
    "Удаляем некоторые столбцы, чтобы не мешались, да и просто они мне не понравились. Меняем названия некоторых столбцов у обеих таблиц, для более удобного доступа, выкидываем облигации и паи, так как их и нет на yahoo, да и не нужны они. На яху российские бумаги получают дополнение к тикеру .ME, поэтому тоже добавим это. \n",
    "\n",
    "Поменяем .ME на .IL у депозитарных расписок газпрома, так как на яху они имеют такой тикер.\n",
    "\n",
    "Из таблицы питерской биржы уберем все российские бумаги, так как они либо уже есть в moex, либо их нет на yahoo.\n",
    "\n",
    "Соединим две таблицы для более удобного поиска.\n",
    "\n",
    "Чтобы бот не ложился от неправильных названий, будем посыласть сообщение.\n",
    "\n",
    "Так же эта функция предоставляет пользователю выбор, в случае, если в таблице нашлось несколько компаний по запросу. По большей части из-за этого, функция и такая большая, так как ее не получилось разделить на несколько отдельных из-за inline клавиатуры бота, да и просто из-за ожидания ответа от пользователя. Если как-то пытатся разделять, а я пытался, в случае нахождения нескольких совпадений, бот не дожидается ответа пользователя, а сразу строит график.\n",
    "\n",
    "Функция строит график и отправляет его пользователю.\n",
    "\n",
    " @bot.callback_query_handler - это декоратор для обработки нажатия инлайн кнопок при выборе компании, если найдено несколько. Его можно было бы и запихнуть в конец к остальным декораторам, но так проще за ним следить и отлаживать."
   ]
  },
  {
   "cell_type": "code",
   "execution_count": 8,
   "metadata": {},
   "outputs": [],
   "source": [
    "def find_tiker(message):\n",
    "    firm = message.text.lower()\n",
    "    bot.send_message(message.from_user.id, \"Подождите, собираю данные\")\n",
    "    m = \"https://www.moex.com/ru/listing/securities-list-csv.aspx\"\n",
    "    params = {'type': '1'}\n",
    "    r = requests.get(m, params)\n",
    "    with open(\"moex.csv\", \"wb\") as code:\n",
    "        code.write(r.content)\n",
    "    moex = pd.read_csv('moex.csv', delimiter=',', encoding='cp1251')\n",
    "    moex.sort_values(by='TRADE_CODE')\n",
    "    del moex['DATESTAMP']\n",
    "    del moex['INSTRUMENT_ID']\n",
    "    del moex['LIST_SECTION']\n",
    "    del moex['REGISTRY_NUMBER']\n",
    "    del moex['REGISTRY_DATE']\n",
    "    del moex['INN']\n",
    "    del moex['NOMINAL']\n",
    "    del moex['LISTING_LEVEL_HIST']\n",
    "    del moex['OBLIGATION_PROGRAM_RN']\n",
    "    del moex['COUPON_PERCENT']\n",
    "    del moex['EARLY_REPAYMENT']\n",
    "    moex = moex.rename(columns={'TRADE_CODE': 'Tiker', 'EMITENT_FULL_NAME': 'Company', 'SUPERTYPE': 'full_Type'})\n",
    "    moex = moex.fillna('NA')\n",
    "    moex = moex.drop(moex[moex.Tiker == 'NA'].index)\n",
    "    moex = moex.drop(moex[moex.full_Type == 'Облигации'].index)\n",
    "    moex = moex.drop(moex[moex.full_Type == 'Инвестиционные паи'].index)\n",
    "\n",
    "    moex.index = np.arange(len(moex))\n",
    "    for i in range(len(moex)):\n",
    "        moex.Company[i] = moex.loc[i].Company.lower()\n",
    "        moex.Tiker[i] = moex.Tiker[i] + '.ME'\n",
    "        if moex.Company[i].find('газпром') != -1:\n",
    "            if moex.full_Type[i].find('Депозитарные расписки') != -1:\n",
    "                moex.Tiker[i] = 'OGZD.IL'\n",
    "\n",
    "    spb = pd.read_csv('spbex.csv', delimiter=';', encoding='cp1251')\n",
    "    del spb['s_level_name']\n",
    "    del spb['e_INN_code']\n",
    "    del spb['si_gos_reg_num']\n",
    "    del spb['si_gos_reg_date']\n",
    "    del spb['s_face_value']\n",
    "    del spb['s_segment']\n",
    "    del spb['s_date_defolt']\n",
    "    del spb['s_date_technic_defolt']\n",
    "    del spb['s_quot_list_in_date']\n",
    "    spb = spb.rename(\n",
    "        columns={'e_full_name': 'Company', 's_sec_type_name_dop': 'Type', 's_sec_form_name_full': 'full_Type',\n",
    "                 's_RTS_code': 'Tiker',\n",
    "                 's_ISIN_code': 'ISIN', 's_face_value_currency': 'currency'})\n",
    "    spb = spb.fillna('NA')\n",
    "    spb = spb.drop(spb[spb.full_Type == 'Акции обыкновенные'].index)\n",
    "    spb = spb.drop(spb[spb.Type == 'Инвестиционные паи'].index)\n",
    "    spb = spb.drop(spb[spb.full_Type == 'Акции привилегированные'].index)\n",
    "    spb.index = np.arange(len(spb))\n",
    "    for i in range(len(spb)):\n",
    "        spb.Company[i] = spb.loc[i].Company.lower()\n",
    "    exchange_table = pd.concat([moex, spb], ignore_index=True)\n",
    "    global tikers\n",
    "    tikers = []\n",
    "    for i in range(len(exchange_table)):\n",
    "        if exchange_table.loc[i].Company.find(firm) != -1:\n",
    "            tikers.append(exchange_table.loc[i].Tiker)\n",
    "    if tikers == []:\n",
    "        bot.send_message(message.from_user.id,\n",
    "                         \"Простите, но такой компании я не знаю, проверьте написание и повторите попытку\")\n",
    "        bot.register_next_step_handler(message, find_tiker)\n",
    "    if len(tikers) == 1:\n",
    "        aapl = data.DataReader(tikers,\n",
    "                               start=startdate,\n",
    "                               end=enddate,\n",
    "                               data_source='yahoo')['Adj Close']\n",
    "        image = aapl.plot(grid=True, label=tikers, figsize=(20, 15))\n",
    "        plt.legend()\n",
    "        plt.savefig(\"graph.png\")\n",
    "        plt.close()\n",
    "        img = open(\"graph.png\", 'rb')\n",
    "        bot.send_photo(message.from_user.id, img, reply_markup=keyboard1)\n",
    "    if len(tikers) > 1:\n",
    "        #создаем клавиатуру с тикерами найденых компаний, если их несколько\n",
    "        key = telebot.types.InlineKeyboardMarkup()\n",
    "        for i in range(len(tikers)):\n",
    "            key.add(telebot.types.InlineKeyboardButton(text=tikers[i], callback_data=tikers[i]))\n",
    "        bot.send_message(message.chat.id,\n",
    "                         \"По вашему запросу найдено несколько бумаг. \\n Какую из этих бумаг ты имел ввиду?\",\n",
    "                         reply_markup=key)\n",
    "\n",
    "        @bot.callback_query_handler(func=lambda call: True)\n",
    "        def callback(call):\n",
    "            if call.data == tikers[i]:\n",
    "                aapl = data.DataReader(tikers[i],\n",
    "                                       start=startdate,\n",
    "                                       end=enddate,\n",
    "                                       data_source='yahoo')['Adj Close']\n",
    "                image = aapl.plot(grid=True, label=tikers[i], figsize=(20, 15))\n",
    "                plt.legend()\n",
    "                plt.savefig(\"graph.png\")\n",
    "                plt.close()\n",
    "                img = open(\"graph.png\", 'rb')\n",
    "                bot.send_photo(message.from_user.id, img, reply_markup=keyboard1)"
   ]
  },
  {
   "cell_type": "markdown",
   "metadata": {},
   "source": [
    "# Парсеры\n",
    "Дальше идут три функции, которые парсят сайты, для РБК и Интерфакса все просто, а вот для ТАСС не совсем. Так как я хотел давать по 5 новостей для каждого сайта, а у ТАСС на странице есть в самом верху 4 бокса с главными новостями, а остальные идут списком, то пришлось для этой пятой прописывать отдельный код из-за того, что их html различаются"
   ]
  },
  {
   "cell_type": "code",
   "execution_count": 9,
   "metadata": {},
   "outputs": [],
   "source": [
    "def tass_parser():\n",
    "    news_tass = []\n",
    "    tass = \"https://tass.ru/rynki\"\n",
    "    r = requests.get(tass)\n",
    "    page = BeautifulSoup(r.text, 'html.parser')\n",
    "    for i in page('a', class_=['cardWrap_link__2AN_X'])[:5]:\n",
    "        if i == page('a', class_=['cardWrap_link__2AN_X'])[4]:\n",
    "            news_tass.append([i('div')[len(i('div')) - 2].span.text, \"https://tass.ru/\" + i['href']])\n",
    "        else:\n",
    "            news_tass.append([i.span.text, \"https://tass.ru/\" + i['href']])\n",
    "    return (news_tass)"
   ]
  },
  {
   "cell_type": "code",
   "execution_count": 10,
   "metadata": {},
   "outputs": [],
   "source": [
    "def rbk_parser(category):\n",
    "    if category == 'Экономика':\n",
    "        news_rbk = []\n",
    "        rbk_ec = \"https://www.rbc.ru/economics/\"\n",
    "        r = requests.get(rbk_ec)\n",
    "        page = BeautifulSoup(r.text, 'html.parser')\n",
    "        for i in page('a', class_=[\"item__link\"])[:5]:\n",
    "            news_rbk.append([i.text.strip(), i['href']])\n",
    "    elif category == 'Финансы':\n",
    "        news_rbk = []\n",
    "        rbk_ec = \"https://www.rbc.ru/finances/\"\n",
    "        r = requests.get(rbk_ec)\n",
    "        page = BeautifulSoup(r.text, 'html.parser')\n",
    "        for i in page('a', class_=[\"item__link\"])[:5]:\n",
    "            news_rbk.append([i.text.strip(), i['href']])\n",
    "    return (news_rbk)\n",
    "\n"
   ]
  },
  {
   "cell_type": "code",
   "execution_count": 11,
   "metadata": {},
   "outputs": [],
   "source": [
    "def interfax_parser(message):\n",
    "    news_interfax = []\n",
    "    interfax = \"https://www.interfax.ru/business/\"\n",
    "    r = requests.get(interfax)\n",
    "    page = BeautifulSoup(r.text, 'html.parser')\n",
    "    for i in page('a', tabindex='5')[:5]:\n",
    "        news_interfax.append([i.text, \"https://www.interfax.ru\" + i['href']])\n",
    "    text_interfax = time.strftime(\" Свежайшее с Интерфакс на %A %B %d, %Y, %H:%M\", time.localtime()) + ':\\n \\n'\n",
    "    for i in news_interfax:\n",
    "        ap = \"<a href=\\\"\" + i[1] + \"\\\">\" + i[0] + \"</a> \\n \\n\"\n",
    "        text_interfax = text_interfax + ap\n",
    "    time.sleep(1)\n",
    "    bot.send_message(message.from_user.id, text_interfax, reply_markup=keyboard1, parse_mode='HTML',\n",
    "                     disable_web_page_preview=True)\n"
   ]
  },
  {
   "cell_type": "markdown",
   "metadata": {},
   "source": [
    "# Декораторы(хендлеры)\n",
    "Тут идут реакции бота на команду /start, а также прописан сценарий для бота, что ему делать, когда нажали какую-то кнопку. Тут бот и обращяется ко всем перечисленным функциям.\n",
    "\n",
    "bot.polling - штука, которая говорит боту проводить опросы серверов телеграма нонстоп. "
   ]
  },
  {
   "cell_type": "code",
   "execution_count": 12,
   "metadata": {},
   "outputs": [],
   "source": [
    "@bot.message_handler(commands=[\"start\"])\n",
    "def start(message):\n",
    "    bot.send_message(message.from_user.id, \"Привет! Чего желаешь?\", reply_markup=keyboard1)\n",
    "\n",
    "\n",
    "@bot.message_handler(content_types=['text'])\n",
    "def choice(message):\n",
    "    if message.text == \"Новости\":\n",
    "        bot.send_message(message.from_user.id, \"Кого хочешь почитать?\", reply_markup=keyboard3)\n",
    "    if message.text == \"ТАСС\":\n",
    "        tass_text = time.strftime(\" Свежайшее с ТАСС на %A %B %d, %Y, %H:%M\", time.localtime()) + ':\\n \\n'\n",
    "        for i in tass_parser():\n",
    "            app = \"<a href=\\\"\" + i[1] + \"\\\">\" + i[0] + \"</a> \\n \\n\"\n",
    "            tass_text = tass_text + app\n",
    "        time.sleep(1)\n",
    "        bot.send_message(message.from_user.id, tass_text, reply_markup=keyboard1, parse_mode='HTML')\n",
    "    if message.text == \"РБК\":\n",
    "        bot.send_message(message.from_user.id, 'Выбери желаемую рубрику!', reply_markup=keyboard_rbk)\n",
    "    if message.text == 'Финансы':\n",
    "        text_rbk_f = time.strftime(\" Свежайшее с РБК на %A %B %d, %Y, %H:%M\", time.localtime()) + ':\\n \\n'\n",
    "        for i in rbk_parser(\"Финансы\"):\n",
    "            ap = \"<a href=\\\"\" + i[1] + \"\\\">\" + i[0] + \"</a> \\n \\n\"\n",
    "            text_rbk_f = text_rbk_f + ap\n",
    "        time.sleep(1)\n",
    "        bot.send_message(message.from_user.id, text_rbk_f, reply_markup=keyboard1, parse_mode='HTML',\n",
    "                         disable_web_page_preview=True)\n",
    "    if message.text == 'Экономика':\n",
    "        text_rbk_e = time.strftime(\" Свежайшее с РБК на %A %B %d, %Y, %H:%M\", time.localtime()) + ':\\n \\n'\n",
    "        for i in rbk_parser(\"Экономика\"):\n",
    "            ap = \"<a href=\\\"\" + i[1] + \"\\\">\" + i[0] + \"</a> \\n \\n\"\n",
    "            text_rbk_e = text_rbk_e + ap\n",
    "        time.sleep(1)\n",
    "        bot.send_message(message.from_user.id, text_rbk_e, reply_markup=keyboard1, parse_mode='HTML',\n",
    "                         disable_web_page_preview=True)\n",
    "    if message.text == 'На главную':\n",
    "        bot.send_message(message.from_user.id, \"Возвращаюсь!\", reply_markup=keyboard1)\n",
    "    elif message.text == \"Котировки\":\n",
    "        bot.send_message(message.from_user.id,\n",
    "                         'Напиши мне дату с которой желаешь получить данные в формате: гггг-мм-дд')\n",
    "        bot.register_next_step_handler(message, check_startdate)\n",
    "    if message.text == 'Портфель':\n",
    "        bot.send_message(message.from_user.id, 'Тут вы можете собрать портфель или посмотреть динамику уже существующего. \\n Выбери желаемую функцию', reply_markup=keyboard2)\n",
    "    if message.text == 'Собрать портфель':\n",
    "        bot.send_message(message.from_user.id,\n",
    "                         'Напишите мне тикеры акций через пробел, которые хотите добавить в свой портфель, если это российские акции добавьте в конец тикера .ME, например SBER.ME')\n",
    "        bot.register_next_step_handler(message, create_portfolio)\n",
    "    if message.text == 'Посмотреть динамику':\n",
    "        dynamics(message)\n",
    "    if message.text == 'Курс валют':\n",
    "        currency_rates(message)\n",
    "    if message.text=='Интерфакс':\n",
    "        interfax_parser(message)\n",
    "        \n",
    "bot.polling(none_stop=True, interval=0)"
   ]
  },
  {
   "cell_type": "markdown",
   "metadata": {},
   "source": [
    "Вот и все) "
   ]
  },
  {
   "cell_type": "code",
   "execution_count": null,
   "metadata": {},
   "outputs": [],
   "source": []
  }
 ],
 "metadata": {
  "kernelspec": {
   "display_name": "Python 3",
   "language": "python",
   "name": "python3"
  },
  "language_info": {
   "codemirror_mode": {
    "name": "ipython",
    "version": 3
   },
   "file_extension": ".py",
   "mimetype": "text/x-python",
   "name": "python",
   "nbconvert_exporter": "python",
   "pygments_lexer": "ipython3",
   "version": "3.9.6"
  }
 },
 "nbformat": 4,
 "nbformat_minor": 2
}
